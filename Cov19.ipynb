{
  "nbformat": 4,
  "nbformat_minor": 0,
  "metadata": {
    "colab": {
      "name": "Cov19.ipynb",
      "provenance": [],
      "collapsed_sections": [],
      "authorship_tag": "ABX9TyN3dHBswoWpPYmFS/ekHwt4",
      "include_colab_link": true
    },
    "kernelspec": {
      "name": "python3",
      "display_name": "Python 3"
    }
  },
  "cells": [
    {
      "cell_type": "markdown",
      "metadata": {
        "id": "view-in-github",
        "colab_type": "text"
      },
      "source": [
        "<a href=\"https://colab.research.google.com/github/amartyaa/covid19/blob/master/Cov19.ipynb\" target=\"_parent\"><img src=\"https://colab.research.google.com/assets/colab-badge.svg\" alt=\"Open In Colab\"/></a>"
      ]
    },
    {
      "cell_type": "markdown",
      "metadata": {
        "id": "v1l6P848hXWs",
        "colab_type": "text"
      },
      "source": [
        "# COVID DATASHEET NOTEBOOK"
      ]
    },
    {
      "cell_type": "markdown",
      "metadata": {
        "id": "W3j3hqRGhhtH",
        "colab_type": "text"
      },
      "source": [
        "A basic notebook to derive covid data from hosted APIs and visualize it."
      ]
    },
    {
      "cell_type": "markdown",
      "metadata": {
        "id": "h10ZuGMagovQ",
        "colab_type": "text"
      },
      "source": [
        "> **DEPENDENCIES**\n"
      ]
    },
    {
      "cell_type": "code",
      "metadata": {
        "id": "KAb5XlRigWDv",
        "colab_type": "code",
        "colab": {}
      },
      "source": [
        "import requests,json\n",
        "import matplotlib.pyplot as plt; plt.rcdefaults()\n",
        "import numpy as np\n",
        "import matplotlib.pyplot as plt"
      ],
      "execution_count": 0,
      "outputs": []
    },
    {
      "cell_type": "markdown",
      "metadata": {
        "id": "iHtiH5yBg89w",
        "colab_type": "text"
      },
      "source": [
        "> API is hosted on [RapidAPI](https://rapidapi.com/KishCom/api/covid-19-coronavirus-statistics).\n",
        "\n"
      ]
    },
    {
      "cell_type": "markdown",
      "metadata": {
        "id": "IBPLjAnun5va",
        "colab_type": "text"
      },
      "source": [
        "*API KEY REMOVED*\n",
        "\n",
        "[Get Your API Key by logging here,It's free](https://rapidapi.com/KishCom/api/covid-19-coronavirus-statistics)"
      ]
    },
    {
      "cell_type": "code",
      "metadata": {
        "id": "L05vzWP2hB_V",
        "colab_type": "code",
        "colab": {}
      },
      "source": [
        "url = \"https://covid-19-coronavirus-statistics.p.rapidapi.com/v1/stats\"\n",
        "headers = {\n",
        "    'x-rapidapi-host': \"covid-19-coronavirus-statistics.p.rapidapi.com\",\n",
        "    'x-rapidapi-key': \"API_KEY Here\"\n",
        "    }"
      ],
      "execution_count": 0,
      "outputs": []
    },
    {
      "cell_type": "markdown",
      "metadata": {
        "id": "YJeIknFUiF-p",
        "colab_type": "text"
      },
      "source": [
        "Give *country name* as **input** if you want data for specific country. *Empty/Incorrect country* name will result in fetching all the datas."
      ]
    },
    {
      "cell_type": "code",
      "metadata": {
        "id": "GoUlkDZbhOwJ",
        "colab_type": "code",
        "colab": {}
      },
      "source": [
        "querystring = {\"country\":'India'}"
      ],
      "execution_count": 0,
      "outputs": []
    },
    {
      "cell_type": "markdown",
      "metadata": {
        "id": "ngwPl5pWikW4",
        "colab_type": "text"
      },
      "source": [
        "Using request package to call HTTP request."
      ]
    },
    {
      "cell_type": "markdown",
      "metadata": {
        "id": "rJpJc-eqi1eC",
        "colab_type": "text"
      },
      "source": [
        "Some JSON Parsing & housekeeping."
      ]
    },
    {
      "cell_type": "code",
      "metadata": {
        "id": "iiwYCB5eiTFq",
        "colab_type": "code",
        "colab": {}
      },
      "source": [
        "response = requests.request(\"GET\", url, headers=headers, params=querystring)\n",
        "z=response.json()\n",
        "t=z['data']['covid19Stats']"
      ],
      "execution_count": 0,
      "outputs": []
    },
    {
      "cell_type": "markdown",
      "metadata": {
        "id": "2y2EJ_6CjY-b",
        "colab_type": "text"
      },
      "source": [
        "Run this field to print the Values."
      ]
    },
    {
      "cell_type": "code",
      "metadata": {
        "id": "-ZaCnNtMjBNQ",
        "colab_type": "code",
        "colab": {
          "base_uri": "https://localhost:8080/",
          "height": 84
        },
        "outputId": "23040260-f0b8-42e0-8158-7f081c293d87"
      },
      "source": [
        "for _ in t:\n",
        "  if(_['city']== '' and _['province'] == ''):\n",
        "    print(_['country'])\n",
        "    print(_['confirmed'])\n",
        "    print(_['deaths'])\n",
        "    print(_['recovered'])\n",
        "  elif(_['city']=='' and _['province']!=''):\n",
        "    print(_['province'])\n",
        "    print(_['country'])\n",
        "    print(_['confirmed'])\n",
        "    print(_['deaths'])\n",
        "    print(_['recovered'])\n",
        "  else:\n",
        "    print(_['city'])\n",
        "    print(_['province'])\n",
        "    print(_['country'])\n",
        "    print(_['confirmed'])\n",
        "    print(_['deaths'])\n",
        "    print(_['recovered'])"
      ],
      "execution_count": 40,
      "outputs": [
        {
          "output_type": "stream",
          "text": [
            "India\n",
            "887\n",
            "20\n",
            "73\n"
          ],
          "name": "stdout"
        }
      ]
    },
    {
      "cell_type": "markdown",
      "metadata": {
        "id": "2khhVEEUj74u",
        "colab_type": "text"
      },
      "source": [
        "Here starts the visualisation"
      ]
    },
    {
      "cell_type": "code",
      "metadata": {
        "id": "gI_VvkOukKmM",
        "colab_type": "code",
        "colab": {
          "base_uri": "https://localhost:8080/",
          "height": 452
        },
        "outputId": "3227338c-522d-42a9-d122-208e0c40c692"
      },
      "source": [
        "objects = {'confirmed','deaths','recovered'}\n",
        "y_pos = np.arange(len(objects))\n",
        "performance = [_['confirmed'],_['deaths'],_['recovered']]\n",
        "\n",
        "plt.bar(y_pos, performance, align='center', color=['yellow','lightgreen','red'])\n",
        "plt.xticks(y_pos, objects)\n",
        "plt.ylabel('Count')\n",
        "plt.title(str(_['country']))\n",
        "\n",
        "plt.show()"
      ],
      "execution_count": 41,
      "outputs": [
        {
          "output_type": "display_data",
          "data": {
            "image/png": "[encoded data removed]",
            "text/plain": [
              "<Figure size 640x480 with 1 Axes>"
            ]
          },
          "metadata": {
            "tags": []
          }
        }
      ]
    }
  ]
}